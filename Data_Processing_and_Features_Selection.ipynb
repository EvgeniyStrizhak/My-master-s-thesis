{
  "nbformat": 4,
  "nbformat_minor": 0,
  "metadata": {
    "colab": {
      "provenance": [],
      "authorship_tag": "ABX9TyNhNR+5f0Lo3urpbGT6iiHf"
    },
    "kernelspec": {
      "name": "python3",
      "display_name": "Python 3"
    },
    "language_info": {
      "name": "python"
    }
  },
  "cells": [
    {
      "cell_type": "markdown",
      "source": [
        "#Data Processing and Feature Selection\n",
        "To prepare the data for model training, the following preprocessing steps were performed:\n",
        "\n",
        "The trend component was removed\n",
        "\n",
        "The time series was made stationary using differencing\n",
        "\n",
        "Lagged (shifted) values were added to capture seasonality\n",
        "\n",
        "The data was scaled to standardize feature magnitudes using Robust Scaler\n",
        "\n",
        "Feature Variables:\n",
        "The features were transformed using differencing to ensure stationarity and reduce the influence of trends\n",
        "\n",
        "The features were standardized using Robust Scaler\n",
        "\n",
        "Feature selection was performed to retain the most relevant variables for modeling using SelectKBest and PCA methods"
      ],
      "metadata": {
        "id": "QHo98CMKB1vF"
      }
    },
    {
      "cell_type": "code",
      "source": [
        "import requests\n",
        "import pandas as pd\n",
        "import seaborn as sns\n",
        "import matplotlib.pyplot as plt\n",
        "from sklearn.model_selection import train_test_split\n",
        "from sklearn.metrics import mean_squared_error\n",
        "from sklearn.pipeline import Pipeline\n",
        "from statsmodels.tsa.seasonal import seasonal_decompose\n",
        "from sklearn.model_selection import TimeSeriesSplit\n",
        "import numpy as np\n",
        "from statsmodels.graphics.tsaplots import plot_acf\n",
        "from sklearn.preprocessing import RobustScaler\n",
        "from sklearn.feature_selection import SelectKBest, f_regression\n",
        "from sklearn.decomposition import PCA\n",
        "from google.colab import drive\n",
        "import json\n",
        "import base64\n",
        "import joblib"
      ],
      "metadata": {
        "id": "toAgJXyBkdaN"
      },
      "execution_count": 1,
      "outputs": []
    },
    {
      "cell_type": "code",
      "source": [
        "RANDOMSTATE = 1234\n",
        "#link to GitHub repo where stock price is saved\n",
        "TARGET_URL = 'https://raw.githubusercontent.com/EvgeniyStrizhak/My-master-s-thesis/refs/heads/main/row_datasets/target.csv'\n",
        "TARGET_FILE_NAME = 'target.csv'\n",
        "##link to GitHub repo where macroeconomics indicators are saved\n",
        "FEATURE_URL = 'https://raw.githubusercontent.com/EvgeniyStrizhak/My-master-s-thesis/refs/heads/main/row_datasets/features.csv'\n",
        "FEATURE_FILE_NAME = 'features.csv'"
      ],
      "metadata": {
        "id": "v96ngczNkcil"
      },
      "execution_count": 2,
      "outputs": []
    },
    {
      "cell_type": "code",
      "source": [
        "#geting data from url and saves it locally\n",
        "def get_data(url, file_name):\n",
        "  response = requests.get(url)\n",
        "\n",
        "#Check if the request was successful\n",
        "  if response.status_code == 200:\n",
        "      # Save the file locally\n",
        "      with open(file_name, \"wb\") as file:\n",
        "          file.write(response.content)\n",
        "      print(f\"File downloaded successfully: {file_name}\")\n",
        "      return file_name\n",
        "  else:\n",
        "    print(f\"Failed to download file: {file_name} Status code: {response.status_code}\")\n",
        "    return None"
      ],
      "metadata": {
        "id": "BiI2cezFkh4N"
      },
      "execution_count": 3,
      "outputs": []
    },
    {
      "cell_type": "code",
      "source": [
        "# Uploads the processed dataset to a GitHub repository\n",
        "def upload_file(file_path, github_file_path):\n",
        "    # Generate the GitHub API URL\n",
        "    url = f\"https://api.github.com/repos/{REPO_OWNER}/{REPO_NAME}/contents/{github_file_path}\"\n",
        "    headers = {\"Authorization\": f\"token {github_token}\", \"Accept\": \"application/vnd.github.v3+json\"}\n",
        "    # Check if the file already exists in the repository\n",
        "    response_sha = requests.get(url, headers=headers)\n",
        "\n",
        "    # Prepare request payload\n",
        "    data = {\n",
        "        \"message\": \"Updated CSV-file\",\n",
        "        \"content\": \"\",\n",
        "        \"branch\": \"main\"\n",
        "    }\n",
        "    # If file exists, include the SHA for an update\n",
        "    if response_sha.status_code == 200:\n",
        "        sha = response_sha.json()[\"sha\"]\n",
        "        data[\"sha\"] = sha\n",
        "    else:\n",
        "        print(f\"Error getting SHA: {response_sha.json()}\")\n",
        "        exit(1)\n",
        "\n",
        "    # Read and encode the file in base64\n",
        "    with open(file_path, \"rb\") as file:\n",
        "        data['content'] = base64.b64encode(file.read()).decode(\"utf-8\")\n",
        "\n",
        "\n",
        "    # Upload or update the file via GitHub API\n",
        "    response = requests.put(url, json=data, headers=headers)\n",
        "\n",
        "    if response.status_code == 201:\n",
        "        print(\"A new file has been uploaded succesfully\")\n",
        "    elif response.status_code == 200:\n",
        "        print(\"An existing file has been updated succesfully\")\n",
        "    else:\n",
        "        print(f\"Error: {response.status_code} - {response.json()}\")"
      ],
      "metadata": {
        "id": "5OI4Mxqpyuvs"
      },
      "execution_count": 4,
      "outputs": []
    },
    {
      "cell_type": "code",
      "source": [
        "# Mount Google Drive to download GitHub token\n",
        "drive.mount('/content/drive')"
      ],
      "metadata": {
        "colab": {
          "base_uri": "https://localhost:8080/"
        },
        "id": "mK-TcWqYy1Ly",
        "outputId": "4dccdd28-a600-42d6-c722-599d0a4b0c35"
      },
      "execution_count": 5,
      "outputs": [
        {
          "output_type": "stream",
          "name": "stdout",
          "text": [
            "Drive already mounted at /content/drive; to attempt to forcibly remount, call drive.mount(\"/content/drive\", force_remount=True).\n"
          ]
        }
      ]
    },
    {
      "cell_type": "code",
      "source": [
        "#json file contains my github token to push files in repo\n",
        "CONFIG_PATH = \"/content/drive/My Drive/config.json\"\n",
        "#repo owner\n",
        "REPO_OWNER = \"EvgeniyStrizhak\"\n",
        "#repo name\n",
        "REPO_NAME = \"My-master-s-thesis\""
      ],
      "metadata": {
        "id": "SNPlsmizzAWC"
      },
      "execution_count": 6,
      "outputs": []
    },
    {
      "cell_type": "code",
      "source": [
        "# Load GitHub token from a configuration file stored on Google Drive\n",
        "with open(CONFIG_PATH) as f:\n",
        "    config = json.load(f)\n",
        "    github_token = config.get(\"GITHUB_TOKEN\")\n",
        "\n",
        "if github_token:\n",
        "    print(\"GitHub token loaded successfully!\")\n",
        "else:\n",
        "    print(\"Error: GitHub token not found!\")"
      ],
      "metadata": {
        "colab": {
          "base_uri": "https://localhost:8080/"
        },
        "id": "PfOZxu7gzHiD",
        "outputId": "c92be031-77d9-4a0f-8d32-8f8ad613d877"
      },
      "execution_count": 7,
      "outputs": [
        {
          "output_type": "stream",
          "name": "stdout",
          "text": [
            "GitHub token loaded successfully!\n"
          ]
        }
      ]
    },
    {
      "cell_type": "code",
      "source": [
        "#Download preprocessed data from GitHub\n",
        "get_data(TARGET_URL, TARGET_FILE_NAME)\n",
        "get_data(FEATURE_URL, FEATURE_FILE_NAME)"
      ],
      "metadata": {
        "colab": {
          "base_uri": "https://localhost:8080/",
          "height": 70
        },
        "id": "oeA3OWJdkmVV",
        "outputId": "6bb89bb4-a870-4686-ec7f-ab166fe88090"
      },
      "execution_count": 8,
      "outputs": [
        {
          "output_type": "stream",
          "name": "stdout",
          "text": [
            "File downloaded successfully: target.csv\n",
            "File downloaded successfully: features.csv\n"
          ]
        },
        {
          "output_type": "execute_result",
          "data": {
            "text/plain": [
              "'features.csv'"
            ],
            "application/vnd.google.colaboratory.intrinsic+json": {
              "type": "string"
            }
          },
          "metadata": {},
          "execution_count": 8
        }
      ]
    },
    {
      "cell_type": "code",
      "source": [
        "#Create a dataframe\n",
        "target = pd.read_csv('target.csv')\n",
        "features = pd.read_csv('features.csv')\n",
        "df = pd.merge(target, features, on=['year', 'month', 'quarter'], how='inner')"
      ],
      "metadata": {
        "id": "d7EMc5SckojV"
      },
      "execution_count": 9,
      "outputs": []
    },
    {
      "cell_type": "markdown",
      "source": [
        "##Transforming Time Series into Stationary Data"
      ],
      "metadata": {
        "id": "wUnOGs1fkQaO"
      }
    },
    {
      "cell_type": "code",
      "execution_count": 10,
      "metadata": {
        "id": "H9OLqbplj_OJ"
      },
      "outputs": [],
      "source": [
        "df['date'] = pd.to_datetime(df[['year', 'month']].assign(day=1))"
      ]
    },
    {
      "cell_type": "code",
      "source": [
        "#substract previous value from current value exept year, month and quarter\n",
        "df_change = df[['date', '^GDAXI']].copy()\n",
        "for i in df.columns[:-1]:\n",
        "    df_change[i] = df[i] - df[i].shift(1)\n",
        "\n",
        "df_change = df_change.dropna()\n",
        "df_change = df_change.drop(['year', 'month', 'quarter'], axis=1)\n",
        "df_change['year'] = df_change['date'].dt.year\n",
        "df_change['month'] = df_change['date'].dt.month\n",
        "df_change['quarter'] = df_change['date'].dt.quarter"
      ],
      "metadata": {
        "id": "CAU_9vF1kXBG"
      },
      "execution_count": 11,
      "outputs": []
    },
    {
      "cell_type": "markdown",
      "source": [
        "The relationship between stock prices and macroeconomic indicators after alterations."
      ],
      "metadata": {
        "id": "Evm29ee8ldJF"
      }
    },
    {
      "cell_type": "code",
      "source": [
        "corr_change = df_change.corr()['^GDAXI'].sort_values(ascending=False)\n",
        "plt.bar(corr_change.index, corr_change.values)\n",
        "plt.xticks(rotation=90)\n",
        "plt.xlabel('Features')\n",
        "plt.ylabel('Correlation')\n",
        "plt.title('Correlation with Price')\n",
        "plt.show()"
      ],
      "metadata": {
        "colab": {
          "base_uri": "https://localhost:8080/",
          "height": 692
        },
        "id": "pHlClNJilTfm",
        "outputId": "9b483844-082e-485c-9da9-9b0e0996e5f3"
      },
      "execution_count": 12,
      "outputs": [
        {
          "output_type": "display_data",
          "data": {
            "text/plain": [
              "<Figure size 640x480 with 1 Axes>"
            ],
            "image/png": "[encoded data removed]"
          },
          "metadata": {}
        }
      ]
    },
    {
      "cell_type": "markdown",
      "source": [
        "After preprocessing, the relationship between stock prices and macroeconomic indicators was reevaluated. By removing the trend component, strong correlations between features and the target variable were significantly reduced. This confirms that many macroeconomic indicators only appeared strongly correlated due to the shared upward trend."
      ],
      "metadata": {
        "id": "ud_2UE-ulj4d"
      }
    },
    {
      "cell_type": "markdown",
      "source": [
        "Adding Seasonality Components to Features"
      ],
      "metadata": {
        "id": "k-iGbnHslpBN"
      }
    },
    {
      "cell_type": "code",
      "source": [
        "df_change['lag'] = df_change['^GDAXI'].shift(1)\n",
        "df_change['lag_2'] = df_change['^GDAXI'].shift(12)\n",
        "df_change = df_change.dropna()"
      ],
      "metadata": {
        "id": "x8-jNegnlomg"
      },
      "execution_count": 13,
      "outputs": []
    },
    {
      "cell_type": "markdown",
      "source": [
        "Based on the data analysis, the GDAXI index follows an annual economic cycle of approximately 12 months. To capture this behavior, lagged features representing seasonality were added to the dataset."
      ],
      "metadata": {
        "id": "4eVXrCZ-txWJ"
      }
    },
    {
      "cell_type": "markdown",
      "source": [
        "Stationarity Summary"
      ],
      "metadata": {
        "id": "JE8giqg5wYwi"
      }
    },
    {
      "cell_type": "code",
      "source": [
        "plot_acf(df_change['^GDAXI'], lags=100)"
      ],
      "metadata": {
        "colab": {
          "base_uri": "https://localhost:8080/",
          "height": 887
        },
        "id": "vafrXDe0mDDd",
        "outputId": "ee12ba08-8962-4cae-b8d7-38868e6fadcb"
      },
      "execution_count": 14,
      "outputs": [
        {
          "output_type": "execute_result",
          "data": {
            "text/plain": [
              "<Figure size 640x480 with 1 Axes>"
            ],
            "image/png": "[encoded data removed]"
          },
          "metadata": {},
          "execution_count": 14
        },
        {
          "output_type": "display_data",
          "data": {
            "text/plain": [
              "<Figure size 640x480 with 1 Axes>"
            ],
            "image/png": "[encoded data removed]"
          },
          "metadata": {}
        }
      ]
    },
    {
      "cell_type": "markdown",
      "source": [
        "All autocorrelation values beyond lag 0 lie within the 95% confidence interval.\n",
        "\n",
        "This indicates the absence of statistically significant autocorrelation at higher lags.\n",
        "\n",
        "No clear decay pattern is observed, and no seasonality remains.\n",
        "\n",
        "Therefore, the GDAXI index has been successfully differenced, and both trend and seasonality components have been removed, confirming that the series is now stationary."
      ],
      "metadata": {
        "id": "PkjGNeX4vdIa"
      }
    },
    {
      "cell_type": "markdown",
      "source": [
        "##Data Splitting"
      ],
      "metadata": {
        "id": "JaaQNqfrl52M"
      }
    },
    {
      "cell_type": "code",
      "source": [
        "#selecing features by deleting target and turn \"data\" column into index\n",
        "features = df_change.drop(['^GDAXI'], axis=1)\n",
        "features['time'] = features.index\n",
        "features = features.set_index(['date'])\n",
        "target = df_change[['^GDAXI', 'date']]\n",
        "target = target.set_index(['date'])"
      ],
      "metadata": {
        "id": "J6SVYBKsl5I9"
      },
      "execution_count": 15,
      "outputs": []
    },
    {
      "cell_type": "code",
      "source": [
        "#list of features\n",
        "print(features.columns)"
      ],
      "metadata": {
        "colab": {
          "base_uri": "https://localhost:8080/"
        },
        "id": "utoUC3-ol9eF",
        "outputId": "740e91c7-97a5-484a-ae2f-a26d988d5f96"
      },
      "execution_count": 16,
      "outputs": [
        {
          "output_type": "stream",
          "name": "stdout",
          "text": [
            "Index(['production_sector', 'gdp', 'consumer_prices',\n",
            "       'industrial_production_index', 'interest_rate',\n",
            "       'economy's_price competitiveness', 'unemployment_rate', 'labour_costs',\n",
            "       'mutual_funds_sales', 'orders-received', 'balance_of_payments',\n",
            "       'shares_sale', 'CL=F', 'year', 'month', 'quarter', 'lag', 'lag_2',\n",
            "       'time'],\n",
            "      dtype='object')\n"
          ]
        }
      ]
    },
    {
      "cell_type": "code",
      "source": [
        "#splitting data to train and test samples\n",
        "#Because data is timeseries parameter \"shuffle\" set \"False\"\n",
        "features_train, features_test = train_test_split(features, test_size=0.06, shuffle=False)\n",
        "target_train, target_test = train_test_split(target, test_size=0.06, shuffle=False)\n",
        "print('features_train shape:', features_train.shape)\n",
        "print('features_test shape:', features_test.shape)\n",
        "print('target_train shape:', target_train.shape)\n",
        "print('target_test shape:', target_test.shape)"
      ],
      "metadata": {
        "colab": {
          "base_uri": "https://localhost:8080/"
        },
        "id": "H4DRDncwmOld",
        "outputId": "910d523b-0fe7-43f7-e4cb-8dbbd7eaca5c"
      },
      "execution_count": 17,
      "outputs": [
        {
          "output_type": "stream",
          "name": "stdout",
          "text": [
            "features_train shape: (216, 19)\n",
            "features_test shape: (14, 19)\n",
            "target_train shape: (216, 1)\n",
            "target_test shape: (14, 1)\n"
          ]
        }
      ]
    },
    {
      "cell_type": "markdown",
      "source": [
        "The dataset was split into training and testing sets to evaluate model performance on unseen data. This is essential for validating the generalization capability of the model."
      ],
      "metadata": {
        "id": "rq6vqbhp4ZOr"
      }
    },
    {
      "cell_type": "markdown",
      "source": [
        "##Data Scaling"
      ],
      "metadata": {
        "id": "8KTLXHgww3ki"
      }
    },
    {
      "cell_type": "code",
      "source": [
        "#Robust scaler is perfect for timeseries data because minimum and maximum values potentially can be higher in the future\n",
        "#feature scaling\n",
        "scaler_features = RobustScaler()\n",
        "\n",
        "scaled_features_train = scaler_features.fit_transform(features_train)\n",
        "#tranform test values to not allow data leakage\n",
        "scaled_features_test = scaler_features.transform(features_test)\n",
        "\n",
        "#target scaling\n",
        "scaler_target = RobustScaler()\n",
        "target_train_2d = target_train.values.reshape(-1, 1)\n",
        "target_test_2d = target_test.values.reshape(-1, 1)\n",
        "\n",
        "scaled_target_train = scaler_target.fit_transform(target_train_2d)\n",
        "#tranform test values to not allow data leakage\n",
        "scaled_target_test = scaler_target.transform(target_test_2d)"
      ],
      "metadata": {
        "id": "gwseJwFJmSGV"
      },
      "execution_count": 18,
      "outputs": []
    },
    {
      "cell_type": "markdown",
      "source": [
        "All features were scaled to ensure consistent magnitudes, which is particularly important for distance-based and regularization-based machine learning algorithms"
      ],
      "metadata": {
        "id": "QyHEUEdB4dZs"
      }
    },
    {
      "cell_type": "markdown",
      "source": [
        "##Feature Selection"
      ],
      "metadata": {
        "id": "GIF9gKlyx7Mr"
      }
    },
    {
      "cell_type": "markdown",
      "source": [
        "Two methods were used to identify the most relevant features:\n",
        "\n",
        "SelectKBest: Chose the top 15 features based on univariate statistical tests."
      ],
      "metadata": {
        "id": "hWuox51-yBaT"
      }
    },
    {
      "cell_type": "code",
      "source": [
        "selector = SelectKBest(score_func=f_regression, k=15)\n",
        "X_new = selector.fit_transform(scaled_features_train, scaled_target_train.flatten())\n",
        "\n",
        "selected_mask = selector.get_support()\n",
        "#apply the filter\n",
        "scaled_features_train_filtered = scaled_features_train[:, selected_mask]\n",
        "scaled_features_test_filtered = scaled_features_test[:, selected_mask]\n",
        "print(\"Selected features:\", selected_mask)"
      ],
      "metadata": {
        "colab": {
          "base_uri": "https://localhost:8080/"
        },
        "id": "SJvuXlW9mUql",
        "outputId": "4e16c172-d5bb-4605-90b9-6c3b1877d951"
      },
      "execution_count": 19,
      "outputs": [
        {
          "output_type": "stream",
          "name": "stdout",
          "text": [
            "Selected features: [ True  True  True  True  True False  True False  True  True  True  True\n",
            "  True False  True  True False  True  True]\n"
          ]
        }
      ]
    },
    {
      "cell_type": "markdown",
      "source": [
        "PCA (Principal Component Analysis): Reduced the feature set to the 10 most informative principal components, capturing the majority of the variance in the dataset."
      ],
      "metadata": {
        "id": "xBFUAOzuyV3q"
      }
    },
    {
      "cell_type": "code",
      "source": [
        "pca = PCA(n_components=10)\n",
        "\n",
        "scaled_features_train_pca = pca.fit_transform(scaled_features_train_filtered)\n",
        "\n",
        "# Apply the same PCA transformation to the test data\n",
        "scaled_features_test_pca = pca.transform(scaled_features_test_filtered)"
      ],
      "metadata": {
        "id": "UsFlWWAumYml"
      },
      "execution_count": 20,
      "outputs": []
    },
    {
      "cell_type": "markdown",
      "source": [
        "##Data uploading"
      ],
      "metadata": {
        "id": "YKxHpNu3zQGb"
      }
    },
    {
      "cell_type": "code",
      "source": [
        "#Upload the final target dataset to GitHub\n",
        "github_file_path = 'processed_datasets/features_train.csv'\n",
        "file_path = 'features_train.csv'\n",
        "features_train_csv = pd.DataFrame(scaled_features_train_filtered)\n",
        "features_train_csv.index = features_train.index\n",
        "features_train_csv.to_csv(file_path)\n",
        "upload_file(file_path, github_file_path)"
      ],
      "metadata": {
        "colab": {
          "base_uri": "https://localhost:8080/"
        },
        "id": "FeBIhCncpONt",
        "outputId": "9d76176d-be4f-4619-fb61-09e350bb23dd"
      },
      "execution_count": 21,
      "outputs": [
        {
          "output_type": "stream",
          "name": "stdout",
          "text": [
            "An existing file has been updated succesfully\n"
          ]
        }
      ]
    },
    {
      "cell_type": "code",
      "source": [
        "#Upload the final target dataset to GitHub\n",
        "github_file_path = 'processed_datasets/features_test.csv'\n",
        "file_path = 'features_test.csv'\n",
        "features_test_csv = pd.DataFrame(scaled_features_test_filtered)\n",
        "features_test_csv.index = features_test.index\n",
        "features_test_csv.to_csv(file_path)\n",
        "upload_file(file_path, github_file_path)"
      ],
      "metadata": {
        "colab": {
          "base_uri": "https://localhost:8080/"
        },
        "id": "bIbJ7INCr512",
        "outputId": "d4c759ba-c3d4-416d-e8c2-2391052a782c"
      },
      "execution_count": 22,
      "outputs": [
        {
          "output_type": "stream",
          "name": "stdout",
          "text": [
            "An existing file has been updated succesfully\n"
          ]
        }
      ]
    },
    {
      "cell_type": "code",
      "source": [
        "#Upload the final target dataset to GitHub\n",
        "github_file_path = 'processed_datasets/target_train.csv'\n",
        "file_path = 'target_train.csv'\n",
        "target_train_csv = pd.DataFrame(scaled_target_train)\n",
        "target_train_csv.index = target_train.index\n",
        "target_train_csv.to_csv(file_path)\n",
        "upload_file(file_path, github_file_path)"
      ],
      "metadata": {
        "colab": {
          "base_uri": "https://localhost:8080/"
        },
        "id": "epJI0zE8sBl2",
        "outputId": "9a3ab93f-6c26-4b0b-e137-454100b28693"
      },
      "execution_count": 23,
      "outputs": [
        {
          "output_type": "stream",
          "name": "stdout",
          "text": [
            "An existing file has been updated succesfully\n"
          ]
        }
      ]
    },
    {
      "cell_type": "code",
      "source": [
        "#Upload the final target dataset to GitHub\n",
        "github_file_path = 'processed_datasets/target_test.csv'\n",
        "file_path = 'target_test.csv'\n",
        "target_test_csv = pd.DataFrame(scaled_target_test)\n",
        "target_test_csv.index = target_test.index\n",
        "target_test_csv.to_csv(file_path)\n",
        "upload_file(file_path, github_file_path)"
      ],
      "metadata": {
        "colab": {
          "base_uri": "https://localhost:8080/"
        },
        "id": "5sRTMRcksQ_O",
        "outputId": "2c5c500c-39af-4aaf-a8b6-f6a62cc9a846"
      },
      "execution_count": 24,
      "outputs": [
        {
          "output_type": "stream",
          "name": "stdout",
          "text": [
            "An existing file has been updated succesfully\n"
          ]
        }
      ]
    },
    {
      "cell_type": "code",
      "source": [
        "#Upload scaler for features to GitHub\n",
        "github_file_path = 'processed_datasets/scaler_features.save'\n",
        "file_path = 'scaler_features.save'\n",
        "joblib.dump(scaler_features, file_path)\n",
        "upload_file(file_path, github_file_path)"
      ],
      "metadata": {
        "colab": {
          "base_uri": "https://localhost:8080/"
        },
        "id": "MibbEFjC2Lza",
        "outputId": "0d785b57-031d-40bd-e6b6-504d5443e841"
      },
      "execution_count": 25,
      "outputs": [
        {
          "output_type": "stream",
          "name": "stdout",
          "text": [
            "An existing file has been updated succesfully\n"
          ]
        }
      ]
    },
    {
      "cell_type": "code",
      "source": [
        "#Upload scaler for target to GitHub\n",
        "github_file_path = 'processed_datasets/scaler_target.save'\n",
        "file_path = 'scaler_target.save'\n",
        "joblib.dump(scaler_target, file_path)\n",
        "upload_file(file_path, github_file_path)"
      ],
      "metadata": {
        "colab": {
          "base_uri": "https://localhost:8080/"
        },
        "id": "jUKQUvYB2Xci",
        "outputId": "433a08e4-93f2-4ff2-a528-543be245e89a"
      },
      "execution_count": 26,
      "outputs": [
        {
          "output_type": "stream",
          "name": "stdout",
          "text": [
            "An existing file has been updated succesfully\n"
          ]
        }
      ]
    },
    {
      "cell_type": "markdown",
      "source": [
        "The final, preprocessed dataset—including stationary target and selected features—was uploaded for training and evaluation."
      ],
      "metadata": {
        "id": "NS-dWHup4uMk"
      }
    }
  ]
}