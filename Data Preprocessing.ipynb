{
  "nbformat": 4,
  "nbformat_minor": 0,
  "metadata": {
    "colab": {
      "provenance": [],
      "authorship_tag": "ABX9TyPP9swMvAZF00Bcp1dtL3Mo",
      "include_colab_link": true
    },
    "kernelspec": {
      "name": "python3",
      "display_name": "Python 3"
    },
    "language_info": {
      "name": "python"
    }
  },
  "cells": [
    {
      "cell_type": "markdown",
      "metadata": {
        "id": "view-in-github",
        "colab_type": "text"
      },
      "source": [
        "<a href=\"https://colab.research.google.com/github/EvgeniyStrizhak/My-master-s-thesis/blob/main/Data%20Preprocessing.ipynb\" target=\"_parent\"><img src=\"https://colab.research.google.com/assets/colab-badge.svg\" alt=\"Open In Colab\"/></a>"
      ]
    },
    {
      "cell_type": "markdown",
      "source": [
        "#Data pre-processing"
      ],
      "metadata": {
        "id": "yBMZxsEiXLeu"
      }
    },
    {
      "cell_type": "markdown",
      "source": [
        "This notebook downloads files from the Bundesbank [database](https://www.bundesbank.de/), merges them, processes them and uploads them to a GitHub repository as features for a model in features.csv.\n",
        "All feaures description and their sources are [here](https://github.com/EvgeniyStrizhak/My-master-s-thesis/blob/a5d137148423b66a3dbeb3045b7e776677ed5838/row_datasets/files_info.json)\n",
        "\n",
        "Target data is downloaded manually from www.investing.com. The notebook then downloads it from my repository, processes it, and uploads it to GitHub as a target.csv file.\n",
        "\n",
        "This pipeline allows you to flexibly configure and select any indicators from the database. To do this, simply enter the file metadata in files_info.json.\n",
        "This pipeline can run automatically on a schedule."
      ],
      "metadata": {
        "id": "cWunvnzVjfi0"
      }
    },
    {
      "cell_type": "code",
      "source": [
        "pip install python-dotenv"
      ],
      "metadata": {
        "colab": {
          "base_uri": "https://localhost:8080/"
        },
        "id": "3FRJt-KYoIVi",
        "outputId": "e5adb87b-1b88-4d11-92b5-01d286c80f96"
      },
      "execution_count": 2,
      "outputs": [
        {
          "output_type": "stream",
          "name": "stdout",
          "text": [
            "Collecting python-dotenv\n",
            "  Downloading python_dotenv-1.0.1-py3-none-any.whl.metadata (23 kB)\n",
            "Downloading python_dotenv-1.0.1-py3-none-any.whl (19 kB)\n",
            "Installing collected packages: python-dotenv\n",
            "Successfully installed python-dotenv-1.0.1\n"
          ]
        }
      ]
    },
    {
      "cell_type": "code",
      "source": [
        "import requests\n",
        "import json\n",
        "from sklearn.pipeline import Pipeline\n",
        "import pandas as pd\n",
        "from google.colab import drive\n",
        "import json\n",
        "import base64\n",
        "import requests"
      ],
      "metadata": {
        "id": "TMPgbnseBzO3"
      },
      "execution_count": 3,
      "outputs": []
    },
    {
      "cell_type": "code",
      "source": [
        "#url of a json file from my repo containes all nesessary url from bundesbank's database\n",
        "API_DATA = 'https://raw.githubusercontent.com/EvgeniyStrizhak/My-master-s-thesis/refs/heads/main/row_datasets/files_info.json'\n",
        "#target url is in my repo\n",
        "TARGET_URL = 'https://raw.githubusercontent.com/EvgeniyStrizhak/My-master-s-thesis/refs/heads/main/row_datasets/DAX%20Historical%20Data.csv'\n",
        "#json file contains my git hub token to push files in repo\n",
        "CONFIG_PATH = \"/content/drive/My Drive/config.json\"\n",
        "#repo owner\n",
        "REPO_OWNER = \"EvgeniyStrizhak\"\n",
        "#repo name\n",
        "REPO_NAME = \"My-master-s-thesis\""
      ],
      "metadata": {
        "id": "rlym2gIoyzha"
      },
      "execution_count": 130,
      "outputs": []
    },
    {
      "cell_type": "code",
      "source": [
        "# Mount Google Drive\n",
        "drive.mount('/content/drive')"
      ],
      "metadata": {
        "colab": {
          "base_uri": "https://localhost:8080/"
        },
        "id": "oIm9shTWoSMr",
        "outputId": "98880765-c14c-484a-af5a-15ee121b3a0e"
      },
      "execution_count": 5,
      "outputs": [
        {
          "output_type": "stream",
          "name": "stdout",
          "text": [
            "Mounted at /content/drive\n"
          ]
        }
      ]
    },
    {
      "cell_type": "markdown",
      "source": [
        "##Data pipline"
      ],
      "metadata": {
        "id": "gAMfKEFhXs5U"
      }
    },
    {
      "cell_type": "code",
      "source": [
        "#geting data from url and saves it locally\n",
        "def get_data(url, file_name):\n",
        "  response = requests.get(url)\n",
        "\n",
        "#Check if the request was successful\n",
        "  if response.status_code == 200:\n",
        "      # Save the file locally\n",
        "      with open(file_name, \"wb\") as file:\n",
        "          file.write(response.content)\n",
        "      print(f\"File downloaded successfully: {file_name}\")\n",
        "      return file_name\n",
        "  else:\n",
        "    print(f\"Failed to download file: {file_name} Status code: {response.status_code}\")\n",
        "    return None"
      ],
      "metadata": {
        "id": "0UyPFknWGcfr"
      },
      "execution_count": 125,
      "outputs": []
    },
    {
      "cell_type": "code",
      "source": [
        "#funcion downloads csv from url and reads it\n",
        "def read_csv(file_name):\n",
        "    return pd.read_csv(file_name)\n",
        "\n",
        "#deleting descriptions and comments from file\n",
        "def filter_rows(df):\n",
        "    df = df.dropna(subset=['Unnamed: 0'])\n",
        "    return df.iloc[10:]\n",
        "\n",
        "#the column Unnamed: 0 contains year and quarter with - delimeter\n",
        "def split_date_column(df, period):\n",
        "    if period == 'quarter':\n",
        "        return df.assign(\n",
        "                year=df['Unnamed: 0'].str.split('-', expand=True)[0],\n",
        "                quarter=df['Unnamed: 0'].str.split('-', expand=True)[1].str.replace('Q', '')\n",
        "                )\n",
        "    else:\n",
        "        df = df.assign(\n",
        "                year=df['Unnamed: 0'].str.split('-', expand=True)[0],\n",
        "                month=df['Unnamed: 0'].str.split('-', expand=True)[1],\n",
        "                )\n",
        "        #if there is month data a quarter column is added for further merging\n",
        "        df['quarter'] = pd.to_datetime(df['month'], format='%m').dt.quarter\n",
        "        return df\n",
        "\n",
        "#drop unnecessary columns data and flags\n",
        "def drop_unnecessary_columns(df):\n",
        "    return df.drop(columns=['Unnamed: 0', df.columns[2]])\n",
        "\n",
        "#columns with a feature renamed the same as file named\n",
        "def rename_columns(df, file_name):\n",
        "    columns = df.columns\n",
        "    file_name = file_name.replace('.csv', '')\n",
        "    return df.rename(columns={columns[0]: file_name})\n",
        "\n",
        "#year, quarter and month turned into integer\n",
        "def convert_dates_to_int(df, period):\n",
        "    if period == 'month':\n",
        "        df = df.assign(\n",
        "                    month=df['month'].astype('int')\n",
        "                    )\n",
        "    return df.assign(year=df['year'].astype('int'),\n",
        "                    quarter=df['quarter'].astype('int')\n",
        "                    )\n",
        "\n",
        "#selecting a period where all features are available\n",
        "def filter_by_year(df):\n",
        "    return df.query('year >= 2005 and not (year == 2024 and quarter == 4) and year != 2025')\n",
        "\n",
        "def reset_index(df):\n",
        "    df.reset_index(drop=True, inplace=True)\n",
        "    return df"
      ],
      "metadata": {
        "id": "swRNX_aFdBAA"
      },
      "execution_count": 121,
      "outputs": []
    },
    {
      "cell_type": "code",
      "source": [
        "#combine functions into one pipline\n",
        "def process_dataset(url, file_name, period):\n",
        "    df = pd.read_csv(get_data(url, file_name))\n",
        "    return (df\n",
        "            .pipe(filter_rows)\n",
        "            .pipe(split_date_column, period)\n",
        "            .pipe(drop_unnecessary_columns)\n",
        "            .pipe(rename_columns, file_name)\n",
        "            .pipe(convert_dates_to_int, period)\n",
        "            .pipe(filter_by_year)\n",
        "            .pipe(reset_index)\n",
        "            )"
      ],
      "metadata": {
        "id": "7w6WQ3F8jQJP"
      },
      "execution_count": 124,
      "outputs": []
    },
    {
      "cell_type": "code",
      "source": [
        "#function upload updated dataset into github repository\n",
        "def upload_file(df, file_path, github_file_path):\n",
        "    #save localy o csv\n",
        "    df.to_csv(file_path, index=False)\n",
        "    #generate url\n",
        "    url = f\"https://api.github.com/repos/{REPO_OWNER}/{REPO_NAME}/contents/{github_file_path}\"\n",
        "    headers = {\"Authorization\": f\"token {github_token}\", \"Accept\": \"application/vnd.github.v3+json\"}\n",
        "    #checking file updating file\n",
        "    response_sha = requests.get(url, headers=headers)\n",
        "\n",
        "    if response_sha.status_code == 200:\n",
        "        sha = response_sha.json()[\"sha\"]\n",
        "    else:\n",
        "        print(f\"Error getting SHA: {response_sha.json()}\")\n",
        "        exit(1)\n",
        "\n",
        "    #read file as utf-8\n",
        "    with open(file_path, \"rb\") as file:\n",
        "        content = base64.b64encode(file.read()).decode(\"utf-8\")\n",
        "\n",
        "    #generate api query\n",
        "\n",
        "    data = {\n",
        "        \"message\": \"Добавлен CSV-файл\",\n",
        "        \"content\": content,\n",
        "        \"branch\": \"main\",\n",
        "        #\"sha\": sha\n",
        "    }\n",
        "\n",
        "    #Upload file to GitHub\n",
        "    response = requests.put(url, json=data, headers=headers)\n",
        "\n",
        "    if response.status_code == 201:\n",
        "        print(\"A new file has been uploaded succesfully\")\n",
        "    elif response.status_code == 200:\n",
        "        print(\"An existing file has been updated succesfully\")\n",
        "    else:\n",
        "        print(f\"Error: {response.status_code} - {response.json()}\")"
      ],
      "metadata": {
        "id": "AkRCJYSmzsPL"
      },
      "execution_count": 128,
      "outputs": []
    },
    {
      "cell_type": "markdown",
      "source": [
        "##Feature uploading and processing"
      ],
      "metadata": {
        "id": "5ogHlzZuaztb"
      }
    },
    {
      "cell_type": "code",
      "source": [
        "#download git token from Google Drive\n",
        "with open(CONFIG_PATH) as f:\n",
        "    config = json.load(f)\n",
        "    github_token = config.get(\"GITHUB_TOKEN\")\n",
        "\n",
        "if github_token:\n",
        "    print(\"GitHub token loaded successfully!\")\n",
        "else:\n",
        "    print(\"Error: GitHub token not found!\")"
      ],
      "metadata": {
        "colab": {
          "base_uri": "https://localhost:8080/"
        },
        "id": "Ayz0yF0jnu8j",
        "outputId": "9bb248fa-3c7e-4be3-b483-a6582dd7d2ba"
      },
      "execution_count": 10,
      "outputs": [
        {
          "output_type": "stream",
          "name": "stdout",
          "text": [
            "GitHub token loaded successfully!\n"
          ]
        }
      ]
    },
    {
      "cell_type": "code",
      "source": [
        "#download data for api queries from repository\n",
        "get_data(API_DATA, 'api_data.json')\n",
        "with open('api_data.json', 'r') as json_file:\n",
        "    data_dictionary = json.load(json_file)"
      ],
      "metadata": {
        "id": "1dQVpF_IXEu1",
        "colab": {
          "base_uri": "https://localhost:8080/"
        },
        "outputId": "6ae895bf-9c77-4e0d-db61-75c46ae46715"
      },
      "execution_count": 34,
      "outputs": [
        {
          "output_type": "stream",
          "name": "stdout",
          "text": [
            "File downloaded successfully.\n"
          ]
        }
      ]
    },
    {
      "cell_type": "code",
      "source": [
        "#generate an empty dataframe to merge it with uploaded datasets\n",
        "df = pd.DataFrame({'year': [], 'quarter': [], 'month':[]})\n",
        "\n",
        "#loop get metadata from json to download and process every file\n",
        "for item in data_dictionary:\n",
        "    file_path = item['file_name']\n",
        "    print(file_path)\n",
        "    #if a file has only quarter data without months data for each month of this quarter will be the same\n",
        "    if item['period'] == 'quarter':\n",
        "        keys = ['year', 'quarter']\n",
        "    else:\n",
        "        keys = ['year', 'quarter', 'month']\n",
        "    df = df.merge(process_dataset(item['url'], file_path, item['period']), on = keys, how = 'outer')"
      ],
      "metadata": {
        "id": "hQYFIC4tvM1O",
        "colab": {
          "base_uri": "https://localhost:8080/"
        },
        "outputId": "55567dbf-7e88-4811-91ac-45fa34c2c8e9"
      },
      "execution_count": 122,
      "outputs": [
        {
          "output_type": "stream",
          "name": "stdout",
          "text": [
            "production_sector.csv\n",
            "orders-received.csv\n",
            "unemployment_rate.csv\n",
            "labour_costs.csv\n",
            "consumer_prices.csv\n",
            "economy's_price competitiveness.csv\n",
            "balance_of_payments.csv\n",
            "gdp.csv\n",
            "interest_rate.csv\n"
          ]
        }
      ]
    },
    {
      "cell_type": "code",
      "source": [
        "df.head()"
      ],
      "metadata": {
        "colab": {
          "base_uri": "https://localhost:8080/",
          "height": 244
        },
        "id": "AHg71ujpWhDE",
        "outputId": "9068e3ef-a36b-4e2c-c023-33da460e08cc"
      },
      "execution_count": 126,
      "outputs": [
        {
          "output_type": "execute_result",
          "data": {
            "text/plain": [
              "   year  quarter  month production_sector orders-received unemployment_rate  \\\n",
              "0  2005        1      1              87.1            73.6              11.6   \n",
              "1  2005        1      2              85.8            72.3              11.9   \n",
              "2  2005        1      3              86.1            73.7              12.1   \n",
              "3  2005        2      4              87.4            73.2              11.9   \n",
              "4  2005        2      5              86.5            73.6              11.9   \n",
              "\n",
              "  labour_costs consumer_prices economy's_price competitiveness  \\\n",
              "0         70.3            84.5                            97.0   \n",
              "1         70.3            84.6                            97.0   \n",
              "2         70.3            84.8                            97.0   \n",
              "3         70.3            85.0                            95.6   \n",
              "4         70.3            85.0                            95.6   \n",
              "\n",
              "  balance_of_payments    gdp interest_rate  \n",
              "0          -19072.388  83.40          2.00  \n",
              "1           12614.579  83.40          2.00  \n",
              "2           21713.763  83.40          2.00  \n",
              "3           17593.788  83.86          2.00  \n",
              "4            6893.840  83.86          2.00  "
            ],
            "text/html": [
              "\n",
              "  <div id=\"df-05f85077-f117-43c5-a0c6-4abbec3f0233\" class=\"colab-df-container\">\n",
              "    <div>\n",
              "<style scoped>\n",
              "    .dataframe tbody tr th:only-of-type {\n",
              "        vertical-align: middle;\n",
              "    }\n",
              "\n",
              "    .dataframe tbody tr th {\n",
              "        vertical-align: top;\n",
              "    }\n",
              "\n",
              "    .dataframe thead th {\n",
              "        text-align: right;\n",
              "    }\n",
              "</style>\n",
              "<table border=\"1\" class=\"dataframe\">\n",
              "  <thead>\n",
              "    <tr style=\"text-align: right;\">\n",
              "      <th></th>\n",
              "      <th>year</th>\n",
              "      <th>quarter</th>\n",
              "      <th>month</th>\n",
              "      <th>production_sector</th>\n",
              "      <th>orders-received</th>\n",
              "      <th>unemployment_rate</th>\n",
              "      <th>labour_costs</th>\n",
              "      <th>consumer_prices</th>\n",
              "      <th>economy's_price competitiveness</th>\n",
              "      <th>balance_of_payments</th>\n",
              "      <th>gdp</th>\n",
              "      <th>interest_rate</th>\n",
              "    </tr>\n",
              "  </thead>\n",
              "  <tbody>\n",
              "    <tr>\n",
              "      <th>0</th>\n",
              "      <td>2005</td>\n",
              "      <td>1</td>\n",
              "      <td>1</td>\n",
              "      <td>87.1</td>\n",
              "      <td>73.6</td>\n",
              "      <td>11.6</td>\n",
              "      <td>70.3</td>\n",
              "      <td>84.5</td>\n",
              "      <td>97.0</td>\n",
              "      <td>-19072.388</td>\n",
              "      <td>83.40</td>\n",
              "      <td>2.00</td>\n",
              "    </tr>\n",
              "    <tr>\n",
              "      <th>1</th>\n",
              "      <td>2005</td>\n",
              "      <td>1</td>\n",
              "      <td>2</td>\n",
              "      <td>85.8</td>\n",
              "      <td>72.3</td>\n",
              "      <td>11.9</td>\n",
              "      <td>70.3</td>\n",
              "      <td>84.6</td>\n",
              "      <td>97.0</td>\n",
              "      <td>12614.579</td>\n",
              "      <td>83.40</td>\n",
              "      <td>2.00</td>\n",
              "    </tr>\n",
              "    <tr>\n",
              "      <th>2</th>\n",
              "      <td>2005</td>\n",
              "      <td>1</td>\n",
              "      <td>3</td>\n",
              "      <td>86.1</td>\n",
              "      <td>73.7</td>\n",
              "      <td>12.1</td>\n",
              "      <td>70.3</td>\n",
              "      <td>84.8</td>\n",
              "      <td>97.0</td>\n",
              "      <td>21713.763</td>\n",
              "      <td>83.40</td>\n",
              "      <td>2.00</td>\n",
              "    </tr>\n",
              "    <tr>\n",
              "      <th>3</th>\n",
              "      <td>2005</td>\n",
              "      <td>2</td>\n",
              "      <td>4</td>\n",
              "      <td>87.4</td>\n",
              "      <td>73.2</td>\n",
              "      <td>11.9</td>\n",
              "      <td>70.3</td>\n",
              "      <td>85.0</td>\n",
              "      <td>95.6</td>\n",
              "      <td>17593.788</td>\n",
              "      <td>83.86</td>\n",
              "      <td>2.00</td>\n",
              "    </tr>\n",
              "    <tr>\n",
              "      <th>4</th>\n",
              "      <td>2005</td>\n",
              "      <td>2</td>\n",
              "      <td>5</td>\n",
              "      <td>86.5</td>\n",
              "      <td>73.6</td>\n",
              "      <td>11.9</td>\n",
              "      <td>70.3</td>\n",
              "      <td>85.0</td>\n",
              "      <td>95.6</td>\n",
              "      <td>6893.840</td>\n",
              "      <td>83.86</td>\n",
              "      <td>2.00</td>\n",
              "    </tr>\n",
              "  </tbody>\n",
              "</table>\n",
              "</div>\n",
              "    <div class=\"colab-df-buttons\">\n",
              "\n",
              "  <div class=\"colab-df-container\">\n",
              "    <button class=\"colab-df-convert\" onclick=\"convertToInteractive('df-05f85077-f117-43c5-a0c6-4abbec3f0233')\"\n",
              "            title=\"Convert this dataframe to an interactive table.\"\n",
              "            style=\"display:none;\">\n",
              "\n",
              "  <svg xmlns=\"http://www.w3.org/2000/svg\" height=\"24px\" viewBox=\"0 -960 960 960\">\n",
              "    <path d=\"M120-120v-720h720v720H120Zm60-500h600v-160H180v160Zm220 220h160v-160H400v160Zm0 220h160v-160H400v160ZM180-400h160v-160H180v160Zm440 0h160v-160H620v160ZM180-180h160v-160H180v160Zm440 0h160v-160H620v160Z\"/>\n",
              "  </svg>\n",
              "    </button>\n",
              "\n",
              "  <style>\n",
              "    .colab-df-container {\n",
              "      display:flex;\n",
              "      gap: 12px;\n",
              "    }\n",
              "\n",
              "    .colab-df-convert {\n",
              "      background-color: #E8F0FE;\n",
              "      border: none;\n",
              "      border-radius: 50%;\n",
              "      cursor: pointer;\n",
              "      display: none;\n",
              "      fill: #1967D2;\n",
              "      height: 32px;\n",
              "      padding: 0 0 0 0;\n",
              "      width: 32px;\n",
              "    }\n",
              "\n",
              "    .colab-df-convert:hover {\n",
              "      background-color: #E2EBFA;\n",
              "      box-shadow: 0px 1px 2px rgba(60, 64, 67, 0.3), 0px 1px 3px 1px rgba(60, 64, 67, 0.15);\n",
              "      fill: #174EA6;\n",
              "    }\n",
              "\n",
              "    .colab-df-buttons div {\n",
              "      margin-bottom: 4px;\n",
              "    }\n",
              "\n",
              "    [theme=dark] .colab-df-convert {\n",
              "      background-color: #3B4455;\n",
              "      fill: #D2E3FC;\n",
              "    }\n",
              "\n",
              "    [theme=dark] .colab-df-convert:hover {\n",
              "      background-color: #434B5C;\n",
              "      box-shadow: 0px 1px 3px 1px rgba(0, 0, 0, 0.15);\n",
              "      filter: drop-shadow(0px 1px 2px rgba(0, 0, 0, 0.3));\n",
              "      fill: #FFFFFF;\n",
              "    }\n",
              "  </style>\n",
              "\n",
              "    <script>\n",
              "      const buttonEl =\n",
              "        document.querySelector('#df-05f85077-f117-43c5-a0c6-4abbec3f0233 button.colab-df-convert');\n",
              "      buttonEl.style.display =\n",
              "        google.colab.kernel.accessAllowed ? 'block' : 'none';\n",
              "\n",
              "      async function convertToInteractive(key) {\n",
              "        const element = document.querySelector('#df-05f85077-f117-43c5-a0c6-4abbec3f0233');\n",
              "        const dataTable =\n",
              "          await google.colab.kernel.invokeFunction('convertToInteractive',\n",
              "                                                    [key], {});\n",
              "        if (!dataTable) return;\n",
              "\n",
              "        const docLinkHtml = 'Like what you see? Visit the ' +\n",
              "          '<a target=\"_blank\" href=https://colab.research.google.com/notebooks/data_table.ipynb>data table notebook</a>'\n",
              "          + ' to learn more about interactive tables.';\n",
              "        element.innerHTML = '';\n",
              "        dataTable['output_type'] = 'display_data';\n",
              "        await google.colab.output.renderOutput(dataTable, element);\n",
              "        const docLink = document.createElement('div');\n",
              "        docLink.innerHTML = docLinkHtml;\n",
              "        element.appendChild(docLink);\n",
              "      }\n",
              "    </script>\n",
              "  </div>\n",
              "\n",
              "\n",
              "<div id=\"df-ab17de57-b50f-46ff-b737-bbfa8cd6c3aa\">\n",
              "  <button class=\"colab-df-quickchart\" onclick=\"quickchart('df-ab17de57-b50f-46ff-b737-bbfa8cd6c3aa')\"\n",
              "            title=\"Suggest charts\"\n",
              "            style=\"display:none;\">\n",
              "\n",
              "<svg xmlns=\"http://www.w3.org/2000/svg\" height=\"24px\"viewBox=\"0 0 24 24\"\n",
              "     width=\"24px\">\n",
              "    <g>\n",
              "        <path d=\"M19 3H5c-1.1 0-2 .9-2 2v14c0 1.1.9 2 2 2h14c1.1 0 2-.9 2-2V5c0-1.1-.9-2-2-2zM9 17H7v-7h2v7zm4 0h-2V7h2v10zm4 0h-2v-4h2v4z\"/>\n",
              "    </g>\n",
              "</svg>\n",
              "  </button>\n",
              "\n",
              "<style>\n",
              "  .colab-df-quickchart {\n",
              "      --bg-color: #E8F0FE;\n",
              "      --fill-color: #1967D2;\n",
              "      --hover-bg-color: #E2EBFA;\n",
              "      --hover-fill-color: #174EA6;\n",
              "      --disabled-fill-color: #AAA;\n",
              "      --disabled-bg-color: #DDD;\n",
              "  }\n",
              "\n",
              "  [theme=dark] .colab-df-quickchart {\n",
              "      --bg-color: #3B4455;\n",
              "      --fill-color: #D2E3FC;\n",
              "      --hover-bg-color: #434B5C;\n",
              "      --hover-fill-color: #FFFFFF;\n",
              "      --disabled-bg-color: #3B4455;\n",
              "      --disabled-fill-color: #666;\n",
              "  }\n",
              "\n",
              "  .colab-df-quickchart {\n",
              "    background-color: var(--bg-color);\n",
              "    border: none;\n",
              "    border-radius: 50%;\n",
              "    cursor: pointer;\n",
              "    display: none;\n",
              "    fill: var(--fill-color);\n",
              "    height: 32px;\n",
              "    padding: 0;\n",
              "    width: 32px;\n",
              "  }\n",
              "\n",
              "  .colab-df-quickchart:hover {\n",
              "    background-color: var(--hover-bg-color);\n",
              "    box-shadow: 0 1px 2px rgba(60, 64, 67, 0.3), 0 1px 3px 1px rgba(60, 64, 67, 0.15);\n",
              "    fill: var(--button-hover-fill-color);\n",
              "  }\n",
              "\n",
              "  .colab-df-quickchart-complete:disabled,\n",
              "  .colab-df-quickchart-complete:disabled:hover {\n",
              "    background-color: var(--disabled-bg-color);\n",
              "    fill: var(--disabled-fill-color);\n",
              "    box-shadow: none;\n",
              "  }\n",
              "\n",
              "  .colab-df-spinner {\n",
              "    border: 2px solid var(--fill-color);\n",
              "    border-color: transparent;\n",
              "    border-bottom-color: var(--fill-color);\n",
              "    animation:\n",
              "      spin 1s steps(1) infinite;\n",
              "  }\n",
              "\n",
              "  @keyframes spin {\n",
              "    0% {\n",
              "      border-color: transparent;\n",
              "      border-bottom-color: var(--fill-color);\n",
              "      border-left-color: var(--fill-color);\n",
              "    }\n",
              "    20% {\n",
              "      border-color: transparent;\n",
              "      border-left-color: var(--fill-color);\n",
              "      border-top-color: var(--fill-color);\n",
              "    }\n",
              "    30% {\n",
              "      border-color: transparent;\n",
              "      border-left-color: var(--fill-color);\n",
              "      border-top-color: var(--fill-color);\n",
              "      border-right-color: var(--fill-color);\n",
              "    }\n",
              "    40% {\n",
              "      border-color: transparent;\n",
              "      border-right-color: var(--fill-color);\n",
              "      border-top-color: var(--fill-color);\n",
              "    }\n",
              "    60% {\n",
              "      border-color: transparent;\n",
              "      border-right-color: var(--fill-color);\n",
              "    }\n",
              "    80% {\n",
              "      border-color: transparent;\n",
              "      border-right-color: var(--fill-color);\n",
              "      border-bottom-color: var(--fill-color);\n",
              "    }\n",
              "    90% {\n",
              "      border-color: transparent;\n",
              "      border-bottom-color: var(--fill-color);\n",
              "    }\n",
              "  }\n",
              "</style>\n",
              "\n",
              "  <script>\n",
              "    async function quickchart(key) {\n",
              "      const quickchartButtonEl =\n",
              "        document.querySelector('#' + key + ' button');\n",
              "      quickchartButtonEl.disabled = true;  // To prevent multiple clicks.\n",
              "      quickchartButtonEl.classList.add('colab-df-spinner');\n",
              "      try {\n",
              "        const charts = await google.colab.kernel.invokeFunction(\n",
              "            'suggestCharts', [key], {});\n",
              "      } catch (error) {\n",
              "        console.error('Error during call to suggestCharts:', error);\n",
              "      }\n",
              "      quickchartButtonEl.classList.remove('colab-df-spinner');\n",
              "      quickchartButtonEl.classList.add('colab-df-quickchart-complete');\n",
              "    }\n",
              "    (() => {\n",
              "      let quickchartButtonEl =\n",
              "        document.querySelector('#df-ab17de57-b50f-46ff-b737-bbfa8cd6c3aa button');\n",
              "      quickchartButtonEl.style.display =\n",
              "        google.colab.kernel.accessAllowed ? 'block' : 'none';\n",
              "    })();\n",
              "  </script>\n",
              "</div>\n",
              "\n",
              "    </div>\n",
              "  </div>\n"
            ],
            "application/vnd.google.colaboratory.intrinsic+json": {
              "type": "dataframe",
              "variable_name": "df",
              "summary": "{\n  \"name\": \"df\",\n  \"rows\": 237,\n  \"fields\": [\n    {\n      \"column\": \"year\",\n      \"properties\": {\n        \"dtype\": \"number\",\n        \"std\": 5,\n        \"min\": 2005,\n        \"max\": 2024,\n        \"num_unique_values\": 20,\n        \"samples\": [\n          2005,\n          2022,\n          2020\n        ],\n        \"semantic_type\": \"\",\n        \"description\": \"\"\n      }\n    },\n    {\n      \"column\": \"quarter\",\n      \"properties\": {\n        \"dtype\": \"number\",\n        \"std\": 1,\n        \"min\": 1,\n        \"max\": 4,\n        \"num_unique_values\": 4,\n        \"samples\": [\n          2,\n          4,\n          1\n        ],\n        \"semantic_type\": \"\",\n        \"description\": \"\"\n      }\n    },\n    {\n      \"column\": \"month\",\n      \"properties\": {\n        \"dtype\": \"number\",\n        \"std\": 3,\n        \"min\": 1,\n        \"max\": 12,\n        \"num_unique_values\": 12,\n        \"samples\": [\n          11,\n          10,\n          1\n        ],\n        \"semantic_type\": \"\",\n        \"description\": \"\"\n      }\n    },\n    {\n      \"column\": \"production_sector\",\n      \"properties\": {\n        \"dtype\": \"string\",\n        \"num_unique_values\": 144,\n        \"samples\": [\n          \"102.4\",\n          \"94.4\",\n          \"101.2\"\n        ],\n        \"semantic_type\": \"\",\n        \"description\": \"\"\n      }\n    },\n    {\n      \"column\": \"orders-received\",\n      \"properties\": {\n        \"dtype\": \"string\",\n        \"num_unique_values\": 162,\n        \"samples\": [\n          \"95.8\",\n          \"95.2\",\n          \"90.8\"\n        ],\n        \"semantic_type\": \"\",\n        \"description\": \"\"\n      }\n    },\n    {\n      \"column\": \"unemployment_rate\",\n      \"properties\": {\n        \"dtype\": \"category\",\n        \"num_unique_values\": 62,\n        \"samples\": [\n          \"6.0\",\n          \"5.4\",\n          \"11.6\"\n        ],\n        \"semantic_type\": \"\",\n        \"description\": \"\"\n      }\n    },\n    {\n      \"column\": \"labour_costs\",\n      \"properties\": {\n        \"dtype\": \"category\",\n        \"num_unique_values\": 71,\n        \"samples\": [\n          \"79.7\",\n          \"70.3\",\n          \"94.9\"\n        ],\n        \"semantic_type\": \"\",\n        \"description\": \"\"\n      }\n    },\n    {\n      \"column\": \"consumer_prices\",\n      \"properties\": {\n        \"dtype\": \"string\",\n        \"num_unique_values\": 165,\n        \"samples\": [\n          \"113.6\",\n          \"106.0\",\n          \"110.6\"\n        ],\n        \"semantic_type\": \"\",\n        \"description\": \"\"\n      }\n    },\n    {\n      \"column\": \"economy's_price competitiveness\",\n      \"properties\": {\n        \"dtype\": \"category\",\n        \"num_unique_values\": 44,\n        \"samples\": [\n          \"92.1\",\n          \"90.8\",\n          \"90.1\"\n        ],\n        \"semantic_type\": \"\",\n        \"description\": \"\"\n      }\n    },\n    {\n      \"column\": \"balance_of_payments\",\n      \"properties\": {\n        \"dtype\": \"string\",\n        \"num_unique_values\": 237,\n        \"samples\": [\n          \"13814.696\",\n          \"22823.536\",\n          \"23448.433\"\n        ],\n        \"semantic_type\": \"\",\n        \"description\": \"\"\n      }\n    },\n    {\n      \"column\": \"gdp\",\n      \"properties\": {\n        \"dtype\": \"category\",\n        \"num_unique_values\": 77,\n        \"samples\": [\n          \"85.82\",\n          \"95.31\",\n          \"90.40\"\n        ],\n        \"semantic_type\": \"\",\n        \"description\": \"\"\n      }\n    },\n    {\n      \"column\": \"interest_rate\",\n      \"properties\": {\n        \"dtype\": \"category\",\n        \"num_unique_values\": 21,\n        \"samples\": [\n          \"2.00\",\n          \"0.05\",\n          \"0.25\"\n        ],\n        \"semantic_type\": \"\",\n        \"description\": \"\"\n      }\n    }\n  ]\n}"
            }
          },
          "metadata": {},
          "execution_count": 126
        }
      ]
    },
    {
      "cell_type": "code",
      "source": [
        "github_file_path = 'row_datasets/features.csv'\n",
        "file_path = 'features.csv'\n",
        "if df.isna().sum().sum() == 0:\n",
        "  upload_file(df, file_path, github_file_path)\n",
        "else:\n",
        "    print(\"There are missing values in the DataFrame.\")"
      ],
      "metadata": {
        "colab": {
          "base_uri": "https://localhost:8080/"
        },
        "id": "k3Frz06-7t6P",
        "outputId": "6f051aaa-bdaa-4f1a-b4cf-6605e2a82f2f"
      },
      "execution_count": 129,
      "outputs": [
        {
          "output_type": "stream",
          "name": "stdout",
          "text": [
            "Error getting SHA: {'message': 'Not Found', 'documentation_url': 'https://docs.github.com/rest/repos/contents#get-repository-content', 'status': '404'}\n",
            "A new file has been uploaded succesfully\n"
          ]
        }
      ]
    },
    {
      "cell_type": "markdown",
      "source": [
        "## Target processing"
      ],
      "metadata": {
        "id": "B7PLgLhSdkcM"
      }
    },
    {
      "cell_type": "code",
      "source": [
        "#upload data for target from github\n",
        "target = get_data(TARGET_URL, 'target.csv')"
      ],
      "metadata": {
        "colab": {
          "base_uri": "https://localhost:8080/"
        },
        "id": "5DagHav3eCkr",
        "outputId": "c4978ae8-91b0-4b6f-b583-4db318196fb4"
      },
      "execution_count": 167,
      "outputs": [
        {
          "output_type": "stream",
          "name": "stdout",
          "text": [
            "File downloaded successfully: target.csv\n"
          ]
        }
      ]
    },
    {
      "cell_type": "code",
      "source": [
        "target = pd.read_csv('target.csv')"
      ],
      "metadata": {
        "id": "GjU5X08oeHWj"
      },
      "execution_count": 168,
      "outputs": []
    },
    {
      "cell_type": "code",
      "source": [
        "target.head()"
      ],
      "metadata": {
        "colab": {
          "base_uri": "https://localhost:8080/",
          "height": 206
        },
        "id": "rKS4xJhYepf7",
        "outputId": "bf1391f7-128a-438c-e702-6f31b58542f8"
      },
      "execution_count": 169,
      "outputs": [
        {
          "output_type": "execute_result",
          "data": {
            "text/plain": [
              "         Date      Price       Open       High        Low     Vol. Change %\n",
              "0  02/01/2025  21,787.90  21,269.50  21,945.57  21,258.00  349.99M    0.26%\n",
              "1  01/01/2025  21,732.05  19,923.07  21,800.52  19,833.82    1.42B    9.16%\n",
              "2  12/01/2024  19,909.14  19,586.17  20,522.82  19,568.50    1.11B    1.44%\n",
              "3  11/01/2024  19,626.45  19,093.99  19,640.15  18,812.53    1.42B    2.88%\n",
              "4  10/01/2024  19,077.54  19,409.39  19,674.68  18,911.72    1.22B   -1.28%"
            ],
            "text/html": [
              "\n",
              "  <div id=\"df-c3b7326b-0107-4f31-b5bc-6d4c07276f23\" class=\"colab-df-container\">\n",
              "    <div>\n",
              "<style scoped>\n",
              "    .dataframe tbody tr th:only-of-type {\n",
              "        vertical-align: middle;\n",
              "    }\n",
              "\n",
              "    .dataframe tbody tr th {\n",
              "        vertical-align: top;\n",
              "    }\n",
              "\n",
              "    .dataframe thead th {\n",
              "        text-align: right;\n",
              "    }\n",
              "</style>\n",
              "<table border=\"1\" class=\"dataframe\">\n",
              "  <thead>\n",
              "    <tr style=\"text-align: right;\">\n",
              "      <th></th>\n",
              "      <th>Date</th>\n",
              "      <th>Price</th>\n",
              "      <th>Open</th>\n",
              "      <th>High</th>\n",
              "      <th>Low</th>\n",
              "      <th>Vol.</th>\n",
              "      <th>Change %</th>\n",
              "    </tr>\n",
              "  </thead>\n",
              "  <tbody>\n",
              "    <tr>\n",
              "      <th>0</th>\n",
              "      <td>02/01/2025</td>\n",
              "      <td>21,787.90</td>\n",
              "      <td>21,269.50</td>\n",
              "      <td>21,945.57</td>\n",
              "      <td>21,258.00</td>\n",
              "      <td>349.99M</td>\n",
              "      <td>0.26%</td>\n",
              "    </tr>\n",
              "    <tr>\n",
              "      <th>1</th>\n",
              "      <td>01/01/2025</td>\n",
              "      <td>21,732.05</td>\n",
              "      <td>19,923.07</td>\n",
              "      <td>21,800.52</td>\n",
              "      <td>19,833.82</td>\n",
              "      <td>1.42B</td>\n",
              "      <td>9.16%</td>\n",
              "    </tr>\n",
              "    <tr>\n",
              "      <th>2</th>\n",
              "      <td>12/01/2024</td>\n",
              "      <td>19,909.14</td>\n",
              "      <td>19,586.17</td>\n",
              "      <td>20,522.82</td>\n",
              "      <td>19,568.50</td>\n",
              "      <td>1.11B</td>\n",
              "      <td>1.44%</td>\n",
              "    </tr>\n",
              "    <tr>\n",
              "      <th>3</th>\n",
              "      <td>11/01/2024</td>\n",
              "      <td>19,626.45</td>\n",
              "      <td>19,093.99</td>\n",
              "      <td>19,640.15</td>\n",
              "      <td>18,812.53</td>\n",
              "      <td>1.42B</td>\n",
              "      <td>2.88%</td>\n",
              "    </tr>\n",
              "    <tr>\n",
              "      <th>4</th>\n",
              "      <td>10/01/2024</td>\n",
              "      <td>19,077.54</td>\n",
              "      <td>19,409.39</td>\n",
              "      <td>19,674.68</td>\n",
              "      <td>18,911.72</td>\n",
              "      <td>1.22B</td>\n",
              "      <td>-1.28%</td>\n",
              "    </tr>\n",
              "  </tbody>\n",
              "</table>\n",
              "</div>\n",
              "    <div class=\"colab-df-buttons\">\n",
              "\n",
              "  <div class=\"colab-df-container\">\n",
              "    <button class=\"colab-df-convert\" onclick=\"convertToInteractive('df-c3b7326b-0107-4f31-b5bc-6d4c07276f23')\"\n",
              "            title=\"Convert this dataframe to an interactive table.\"\n",
              "            style=\"display:none;\">\n",
              "\n",
              "  <svg xmlns=\"http://www.w3.org/2000/svg\" height=\"24px\" viewBox=\"0 -960 960 960\">\n",
              "    <path d=\"M120-120v-720h720v720H120Zm60-500h600v-160H180v160Zm220 220h160v-160H400v160Zm0 220h160v-160H400v160ZM180-400h160v-160H180v160Zm440 0h160v-160H620v160ZM180-180h160v-160H180v160Zm440 0h160v-160H620v160Z\"/>\n",
              "  </svg>\n",
              "    </button>\n",
              "\n",
              "  <style>\n",
              "    .colab-df-container {\n",
              "      display:flex;\n",
              "      gap: 12px;\n",
              "    }\n",
              "\n",
              "    .colab-df-convert {\n",
              "      background-color: #E8F0FE;\n",
              "      border: none;\n",
              "      border-radius: 50%;\n",
              "      cursor: pointer;\n",
              "      display: none;\n",
              "      fill: #1967D2;\n",
              "      height: 32px;\n",
              "      padding: 0 0 0 0;\n",
              "      width: 32px;\n",
              "    }\n",
              "\n",
              "    .colab-df-convert:hover {\n",
              "      background-color: #E2EBFA;\n",
              "      box-shadow: 0px 1px 2px rgba(60, 64, 67, 0.3), 0px 1px 3px 1px rgba(60, 64, 67, 0.15);\n",
              "      fill: #174EA6;\n",
              "    }\n",
              "\n",
              "    .colab-df-buttons div {\n",
              "      margin-bottom: 4px;\n",
              "    }\n",
              "\n",
              "    [theme=dark] .colab-df-convert {\n",
              "      background-color: #3B4455;\n",
              "      fill: #D2E3FC;\n",
              "    }\n",
              "\n",
              "    [theme=dark] .colab-df-convert:hover {\n",
              "      background-color: #434B5C;\n",
              "      box-shadow: 0px 1px 3px 1px rgba(0, 0, 0, 0.15);\n",
              "      filter: drop-shadow(0px 1px 2px rgba(0, 0, 0, 0.3));\n",
              "      fill: #FFFFFF;\n",
              "    }\n",
              "  </style>\n",
              "\n",
              "    <script>\n",
              "      const buttonEl =\n",
              "        document.querySelector('#df-c3b7326b-0107-4f31-b5bc-6d4c07276f23 button.colab-df-convert');\n",
              "      buttonEl.style.display =\n",
              "        google.colab.kernel.accessAllowed ? 'block' : 'none';\n",
              "\n",
              "      async function convertToInteractive(key) {\n",
              "        const element = document.querySelector('#df-c3b7326b-0107-4f31-b5bc-6d4c07276f23');\n",
              "        const dataTable =\n",
              "          await google.colab.kernel.invokeFunction('convertToInteractive',\n",
              "                                                    [key], {});\n",
              "        if (!dataTable) return;\n",
              "\n",
              "        const docLinkHtml = 'Like what you see? Visit the ' +\n",
              "          '<a target=\"_blank\" href=https://colab.research.google.com/notebooks/data_table.ipynb>data table notebook</a>'\n",
              "          + ' to learn more about interactive tables.';\n",
              "        element.innerHTML = '';\n",
              "        dataTable['output_type'] = 'display_data';\n",
              "        await google.colab.output.renderOutput(dataTable, element);\n",
              "        const docLink = document.createElement('div');\n",
              "        docLink.innerHTML = docLinkHtml;\n",
              "        element.appendChild(docLink);\n",
              "      }\n",
              "    </script>\n",
              "  </div>\n",
              "\n",
              "\n",
              "<div id=\"df-3919e42c-5b79-4d34-92c6-fc3229320a8f\">\n",
              "  <button class=\"colab-df-quickchart\" onclick=\"quickchart('df-3919e42c-5b79-4d34-92c6-fc3229320a8f')\"\n",
              "            title=\"Suggest charts\"\n",
              "            style=\"display:none;\">\n",
              "\n",
              "<svg xmlns=\"http://www.w3.org/2000/svg\" height=\"24px\"viewBox=\"0 0 24 24\"\n",
              "     width=\"24px\">\n",
              "    <g>\n",
              "        <path d=\"M19 3H5c-1.1 0-2 .9-2 2v14c0 1.1.9 2 2 2h14c1.1 0 2-.9 2-2V5c0-1.1-.9-2-2-2zM9 17H7v-7h2v7zm4 0h-2V7h2v10zm4 0h-2v-4h2v4z\"/>\n",
              "    </g>\n",
              "</svg>\n",
              "  </button>\n",
              "\n",
              "<style>\n",
              "  .colab-df-quickchart {\n",
              "      --bg-color: #E8F0FE;\n",
              "      --fill-color: #1967D2;\n",
              "      --hover-bg-color: #E2EBFA;\n",
              "      --hover-fill-color: #174EA6;\n",
              "      --disabled-fill-color: #AAA;\n",
              "      --disabled-bg-color: #DDD;\n",
              "  }\n",
              "\n",
              "  [theme=dark] .colab-df-quickchart {\n",
              "      --bg-color: #3B4455;\n",
              "      --fill-color: #D2E3FC;\n",
              "      --hover-bg-color: #434B5C;\n",
              "      --hover-fill-color: #FFFFFF;\n",
              "      --disabled-bg-color: #3B4455;\n",
              "      --disabled-fill-color: #666;\n",
              "  }\n",
              "\n",
              "  .colab-df-quickchart {\n",
              "    background-color: var(--bg-color);\n",
              "    border: none;\n",
              "    border-radius: 50%;\n",
              "    cursor: pointer;\n",
              "    display: none;\n",
              "    fill: var(--fill-color);\n",
              "    height: 32px;\n",
              "    padding: 0;\n",
              "    width: 32px;\n",
              "  }\n",
              "\n",
              "  .colab-df-quickchart:hover {\n",
              "    background-color: var(--hover-bg-color);\n",
              "    box-shadow: 0 1px 2px rgba(60, 64, 67, 0.3), 0 1px 3px 1px rgba(60, 64, 67, 0.15);\n",
              "    fill: var(--button-hover-fill-color);\n",
              "  }\n",
              "\n",
              "  .colab-df-quickchart-complete:disabled,\n",
              "  .colab-df-quickchart-complete:disabled:hover {\n",
              "    background-color: var(--disabled-bg-color);\n",
              "    fill: var(--disabled-fill-color);\n",
              "    box-shadow: none;\n",
              "  }\n",
              "\n",
              "  .colab-df-spinner {\n",
              "    border: 2px solid var(--fill-color);\n",
              "    border-color: transparent;\n",
              "    border-bottom-color: var(--fill-color);\n",
              "    animation:\n",
              "      spin 1s steps(1) infinite;\n",
              "  }\n",
              "\n",
              "  @keyframes spin {\n",
              "    0% {\n",
              "      border-color: transparent;\n",
              "      border-bottom-color: var(--fill-color);\n",
              "      border-left-color: var(--fill-color);\n",
              "    }\n",
              "    20% {\n",
              "      border-color: transparent;\n",
              "      border-left-color: var(--fill-color);\n",
              "      border-top-color: var(--fill-color);\n",
              "    }\n",
              "    30% {\n",
              "      border-color: transparent;\n",
              "      border-left-color: var(--fill-color);\n",
              "      border-top-color: var(--fill-color);\n",
              "      border-right-color: var(--fill-color);\n",
              "    }\n",
              "    40% {\n",
              "      border-color: transparent;\n",
              "      border-right-color: var(--fill-color);\n",
              "      border-top-color: var(--fill-color);\n",
              "    }\n",
              "    60% {\n",
              "      border-color: transparent;\n",
              "      border-right-color: var(--fill-color);\n",
              "    }\n",
              "    80% {\n",
              "      border-color: transparent;\n",
              "      border-right-color: var(--fill-color);\n",
              "      border-bottom-color: var(--fill-color);\n",
              "    }\n",
              "    90% {\n",
              "      border-color: transparent;\n",
              "      border-bottom-color: var(--fill-color);\n",
              "    }\n",
              "  }\n",
              "</style>\n",
              "\n",
              "  <script>\n",
              "    async function quickchart(key) {\n",
              "      const quickchartButtonEl =\n",
              "        document.querySelector('#' + key + ' button');\n",
              "      quickchartButtonEl.disabled = true;  // To prevent multiple clicks.\n",
              "      quickchartButtonEl.classList.add('colab-df-spinner');\n",
              "      try {\n",
              "        const charts = await google.colab.kernel.invokeFunction(\n",
              "            'suggestCharts', [key], {});\n",
              "      } catch (error) {\n",
              "        console.error('Error during call to suggestCharts:', error);\n",
              "      }\n",
              "      quickchartButtonEl.classList.remove('colab-df-spinner');\n",
              "      quickchartButtonEl.classList.add('colab-df-quickchart-complete');\n",
              "    }\n",
              "    (() => {\n",
              "      let quickchartButtonEl =\n",
              "        document.querySelector('#df-3919e42c-5b79-4d34-92c6-fc3229320a8f button');\n",
              "      quickchartButtonEl.style.display =\n",
              "        google.colab.kernel.accessAllowed ? 'block' : 'none';\n",
              "    })();\n",
              "  </script>\n",
              "</div>\n",
              "\n",
              "    </div>\n",
              "  </div>\n"
            ],
            "application/vnd.google.colaboratory.intrinsic+json": {
              "type": "dataframe",
              "variable_name": "target",
              "summary": "{\n  \"name\": \"target\",\n  \"rows\": 241,\n  \"fields\": [\n    {\n      \"column\": \"Date\",\n      \"properties\": {\n        \"dtype\": \"object\",\n        \"num_unique_values\": 241,\n        \"samples\": [\n          \"02/01/2023\",\n          \"08/01/2024\",\n          \"08/01/2006\"\n        ],\n        \"semantic_type\": \"\",\n        \"description\": \"\"\n      }\n    },\n    {\n      \"column\": \"Price\",\n      \"properties\": {\n        \"dtype\": \"string\",\n        \"num_unique_values\": 241,\n        \"samples\": [\n          \"15,365.14\",\n          \"18,906.92\",\n          \"5,859.57\"\n        ],\n        \"semantic_type\": \"\",\n        \"description\": \"\"\n      }\n    },\n    {\n      \"column\": \"Open\",\n      \"properties\": {\n        \"dtype\": \"string\",\n        \"num_unique_values\": 241,\n        \"samples\": [\n          \"15,125.12\",\n          \"18,404.95\",\n          \"5,678.01\"\n        ],\n        \"semantic_type\": \"\",\n        \"description\": \"\"\n      }\n    },\n    {\n      \"column\": \"High\",\n      \"properties\": {\n        \"dtype\": \"string\",\n        \"num_unique_values\": 241,\n        \"samples\": [\n          \"15,658.56\",\n          \"18,971.75\",\n          \"5,886.78\"\n        ],\n        \"semantic_type\": \"\",\n        \"description\": \"\"\n      }\n    },\n    {\n      \"column\": \"Low\",\n      \"properties\": {\n        \"dtype\": \"string\",\n        \"num_unique_values\": 241,\n        \"samples\": [\n          \"15,107.83\",\n          \"17,021.65\",\n          \"5,557.59\"\n        ],\n        \"semantic_type\": \"\",\n        \"description\": \"\"\n      }\n    },\n    {\n      \"column\": \"Vol.\",\n      \"properties\": {\n        \"dtype\": \"string\",\n        \"num_unique_values\": 157,\n        \"samples\": [\n          \"2.48B\",\n          \"4.83B\",\n          \"3.29B\"\n        ],\n        \"semantic_type\": \"\",\n        \"description\": \"\"\n      }\n    },\n    {\n      \"column\": \"Change %\",\n      \"properties\": {\n        \"dtype\": \"string\",\n        \"num_unique_values\": 225,\n        \"samples\": [\n          \"3.16%\",\n          \"-9.81%\",\n          \"0.04%\"\n        ],\n        \"semantic_type\": \"\",\n        \"description\": \"\"\n      }\n    }\n  ]\n}"
            }
          },
          "metadata": {},
          "execution_count": 169
        }
      ]
    },
    {
      "cell_type": "code",
      "source": [
        "target.info()"
      ],
      "metadata": {
        "colab": {
          "base_uri": "https://localhost:8080/"
        },
        "id": "_156c0edeNAs",
        "outputId": "be569a6c-bdf9-4161-adf7-c5ebbca3f552"
      },
      "execution_count": 170,
      "outputs": [
        {
          "output_type": "stream",
          "name": "stdout",
          "text": [
            "<class 'pandas.core.frame.DataFrame'>\n",
            "RangeIndex: 241 entries, 0 to 240\n",
            "Data columns (total 7 columns):\n",
            " #   Column    Non-Null Count  Dtype \n",
            "---  ------    --------------  ----- \n",
            " 0   Date      241 non-null    object\n",
            " 1   Price     241 non-null    object\n",
            " 2   Open      241 non-null    object\n",
            " 3   High      241 non-null    object\n",
            " 4   Low       241 non-null    object\n",
            " 5   Vol.      241 non-null    object\n",
            " 6   Change %  241 non-null    object\n",
            "dtypes: object(7)\n",
            "memory usage: 13.3+ KB\n"
          ]
        }
      ]
    },
    {
      "cell_type": "code",
      "source": [
        "#change data types for nesessary columns select year and month\n",
        "target['Date'] = pd.to_datetime(target['Date'], format='%m/%d/%Y')\n",
        "target['month'] = target['Date'].dt.month\n",
        "target['year'] = target['Date'].dt.year\n",
        "target['Price'] = target['Price'].str.replace(',', '').astype('float')"
      ],
      "metadata": {
        "id": "bJ6xjbKeejC0"
      },
      "execution_count": 171,
      "outputs": []
    },
    {
      "cell_type": "code",
      "source": [
        "#select nesessary dates\n",
        "target = target.query('year >= 2005 and not (year == 2024 and month in (10, 11, 12)) and year != 2025')"
      ],
      "metadata": {
        "id": "s4ireSq_nwxM"
      },
      "execution_count": 177,
      "outputs": []
    },
    {
      "cell_type": "code",
      "source": [
        "#final target grouped by year and month\n",
        "target_table = target.groupby(['year', 'month'])['Price'].mean().reset_index()"
      ],
      "metadata": {
        "id": "1Yl9bJzFfr6c"
      },
      "execution_count": 173,
      "outputs": []
    },
    {
      "cell_type": "code",
      "source": [
        "#upload data\n",
        "github_file_path = 'row_datasets/target.csv'\n",
        "file_path = 'target.csv'\n",
        "upload_file(df, file_path, github_file_path)"
      ],
      "metadata": {
        "colab": {
          "base_uri": "https://localhost:8080/"
        },
        "id": "gxc03uCejWrc",
        "outputId": "9caada9e-ceb1-4058-863a-162f3715380c"
      },
      "execution_count": 156,
      "outputs": [
        {
          "output_type": "stream",
          "name": "stdout",
          "text": [
            "Error getting SHA: {'message': 'Not Found', 'documentation_url': 'https://docs.github.com/rest/repos/contents#get-repository-content', 'status': '404'}\n",
            "A new file has been uploaded succesfully\n"
          ]
        }
      ]
    }
  ]
}